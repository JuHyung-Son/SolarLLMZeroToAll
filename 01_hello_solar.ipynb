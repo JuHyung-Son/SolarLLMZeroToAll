{
 "cells": [
  {
   "cell_type": "code",
   "execution_count": 8,
   "metadata": {},
   "outputs": [],
   "source": [
    "! pip3 install -qU langchain-upstage  requests python-dotenv"
   ]
  },
  {
   "cell_type": "markdown",
   "metadata": {},
   "source": [
    "## UPSTAGE_API_KEY\n",
    "To obtain your Upstage API key, follow these steps:\n",
    "\n",
    "1. Visit the Upstage AI console at <https://console.upstage.ai>.\n",
    "2. Sign up for an account if you don't already have one.\n",
    "3. Log in to your account.\n",
    "4. Navigate to the API key section.\n",
    "5. Generate your API key.\n",
    "6. Copy the key and save it securely.\n",
    "\n",
    "![Console](./figures/console.upstage.ai.jpg)"
   ]
  },
  {
   "cell_type": "code",
   "execution_count": 2,
   "metadata": {},
   "outputs": [],
   "source": [
    "\n",
    "%load_ext dotenv\n",
    "%dotenv\n",
    "# set UPSTAGE_API_KEY in .env file\n",
    "# UPSTAGE_API_KEY=your_api_key"
   ]
  },
  {
   "cell_type": "code",
   "execution_count": 3,
   "metadata": {},
   "outputs": [],
   "source": [
    "import warnings\n",
    "\n",
    "warnings.filterwarnings(\"ignore\")"
   ]
  },
  {
   "cell_type": "code",
   "execution_count": 9,
   "metadata": {},
   "outputs": [
    {
     "ename": "SyntaxError",
     "evalue": "invalid syntax (4248509062.py, line 8)",
     "output_type": "error",
     "traceback": [
      "\u001b[0;36m  Cell \u001b[0;32mIn[9], line 8\u001b[0;36m\u001b[0m\n\u001b[0;31m    chat_result = client.chat.completions.create ㅗㅗ(\u001b[0m\n\u001b[0m                                                 ^\u001b[0m\n\u001b[0;31mSyntaxError\u001b[0m\u001b[0;31m:\u001b[0m invalid syntax\n"
     ]
    }
   ],
   "source": [
    "import os\n",
    "from openai import OpenAI\n",
    "from pprint import pprint\n",
    "\n",
    "client = OpenAI(\n",
    "    api_key=os.environ[\"UPSTAGE_API_KEY\"], base_url=\"https://api.upstage.ai/v1/solar\"\n",
    ")\n",
    "chat_result = client.chat.completions.create ㅗㅗ(\n",
    "    model=\"solar-1-mini-chat\",\n",
    "    messages=[\n",
    "        {\"role\": \"system\", \"content\": \"Once Upon a Time in A Galaxy Far, Far, Away ...\"},\n",
    "    ],\n",
    ")\n",
    "\n",
    "pprint(chat_result.choices[0].message.content)"
   ]
  },
  {
   "cell_type": "code",
   "execution_count": 5,
   "metadata": {},
   "outputs": [
    {
     "name": "stdout",
     "output_type": "stream",
     "text": [
      "('Yes, I can help you with that. Seoul is a city with many beautiful places to '\n",
      " 'visit. Here are some popular places for sightseeing in Seoul:\\n'\n",
      " '\\n'\n",
      " '1. Gyeongbokgung Palace: This is the largest and most famous palace in '\n",
      " \"Seoul, and it's a great place to learn about Korean history and culture.\\n\"\n",
      " '2. Bukchon Hanok Village: This is a traditional Korean village with narrow '\n",
      " \"streets and beautiful hanok houses. It's a great place to take photos and \"\n",
      " 'experience traditional Korean culture.\\n'\n",
      " '3. Namsan Tower: This is a tower located on Namsan Mountain, and it offers '\n",
      " 'great views of the city. You can take a cable car to the top or hike up the '\n",
      " 'mountain.\\n'\n",
      " '4. Myeong-dong: This is a popular shopping and dining district in the heart '\n",
      " \"of Seoul. It's a great place to try Korean street food and shop for \"\n",
      " 'souvenirs.\\n'\n",
      " '5. Hongdae: This is a trendy neighborhood known for its street art, indie '\n",
      " \"music scene, and vibrant nightlife. It's a great place to experience the \"\n",
      " 'youth culture of Seoul.\\n'\n",
      " '\\n'\n",
      " 'These are just a few examples of the many great places to visit in Seoul. I '\n",
      " 'hope this helps!')\n"
     ]
    }
   ],
   "source": [
    "chat_result = client.chat.completions.create(\n",
    "    model=\"solar-1-mini-chat\",\n",
    "    messages=[\n",
    "        {\"role\": \"system\", \"content\": \"Can you tell me good place to vision in Seoul?\"},\n",
    "    ],\n",
    ")\n",
    "\n",
    "pprint(chat_result.choices[0].message.content)"
   ]
  },
  {
   "cell_type": "markdown",
   "metadata": {},
   "source": [
    "![Langchain](figures/langchain.jpg)\n",
    "\n",
    "https://python.langchain.com/v0.1/docs/integrations/providers/upstage/"
   ]
  },
  {
   "cell_type": "code",
   "execution_count": 6,
   "metadata": {},
   "outputs": [
    {
     "data": {
      "text/plain": [
       "AIMessage(content=\"The best season to get to Korean depends on your personal preferences and goals. Here are some factors to consider when deciding when to start learning Korean:\\n\\n1. Time commitment: Learning a new language requires a significant time commitment, so it's essential to choose a time when you have enough free time to dedicate to studying. If you're busy with work or school, you may want to wait until you have more free time.\\n2. Motivation: It's essential to have a strong motivation to learn Korean. If you have a specific goal in mind, such as traveling to Korea or communicating with Korean friends, this can help keep you motivated and focused.\\n3. Resources: The availability of resources can also impact when you start learning Korean. If you live in an area with a large Korean community or have access to Korean language classes or tutors, you may want to start learning sooner rather than later.\\n4. Learning style: Different people have different learning styles, and some may find it easier to learn a new language during certain seasons. For example, some people may find it easier to focus during the summer when they have more free time, while others may prefer to learn during the winter when they have more indoor time.\\n\\nUltimately, the best season to get to Korean is when you feel ready and motivated to start learning. With dedication and practice, you can make progress in learning Korean at any time of year.\", response_metadata={'token_usage': {'completion_tokens': 299, 'prompt_tokens': 21, 'total_tokens': 320}, 'model_name': 'solar-1-mini-chat', 'system_fingerprint': None, 'finish_reason': 'stop', 'logprobs': None}, id='run-6f113e3e-7027-4b5e-8e15-e16e356c8e2b-0')"
      ]
     },
     "execution_count": 6,
     "metadata": {},
     "output_type": "execute_result"
    }
   ],
   "source": [
    "# Quick hello world\n",
    "from langchain_upstage import ChatUpstage\n",
    "\n",
    "llm = ChatUpstage()\n",
    "llm.invoke(\"What's the best season to get to Korean?\")"
   ]
  },
  {
   "cell_type": "code",
   "execution_count": 7,
   "metadata": {},
   "outputs": [
    {
     "data": {
      "text/plain": [
       "(1, 4096)"
      ]
     },
     "execution_count": 7,
     "metadata": {},
     "output_type": "execute_result"
    }
   ],
   "source": [
    "from langchain_upstage import UpstageEmbeddings\n",
    "\n",
    "embeddings_model = UpstageEmbeddings(model=\"solar-embedding-1-large\")\n",
    "embeddings = embeddings_model.embed_documents(\n",
    "    [\n",
    "        \"Whay is the best season to visit Korea?\",\n",
    "    ])\n",
    "\n",
    "len(embeddings), len(embeddings[0])"
   ]
  }
 ],
 "metadata": {
  "kernelspec": {
   "display_name": ".venv",
   "language": "python",
   "name": "python3"
  },
  "language_info": {
   "codemirror_mode": {
    "name": "ipython",
    "version": 3
   },
   "file_extension": ".py",
   "mimetype": "text/x-python",
   "name": "python",
   "nbconvert_exporter": "python",
   "pygments_lexer": "ipython3",
   "version": "3.9.6"
  }
 },
 "nbformat": 4,
 "nbformat_minor": 2
}

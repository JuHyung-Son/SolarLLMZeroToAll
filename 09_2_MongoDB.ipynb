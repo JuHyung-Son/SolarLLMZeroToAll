{
 "cells": [
  {
   "cell_type": "markdown",
   "metadata": {},
   "source": [
    "## MongoDB Atlas\n",
    "\n",
    "To use MongoDB Atlas, you must first deploy a cluster. To get started head over to Atlas here: [quick start](https://www.mongodb.com/docs/atlas/getting-started/).\n",
    "Create an Atlas database and create an Atlas Search Index to search vectors.\n",
    "\n",
    "Follow below MongoDB Atlas guide\n",
    "- [Create new cluster](https://www.mongodb.com/docs/atlas/tutorial/create-new-cluster/)\n",
    "- [Connect to database](https://www.mongodb.com/docs/atlas/driver-connection/)\n",
    "- [Create an Atlas Vector Search Index](https://www.mongodb.com/docs/atlas/atlas-vector-search/create-index/)\n",
    "- [Create Index Fields](https://www.mongodb.com/docs/atlas/atlas-vector-search/vector-search-type/#std-label-avs-types-vector-search)\n",
    "\n",
    "### benefits?\n",
    "- use mongoDB itself!"
   ]
  },
  {
   "cell_type": "code",
   "execution_count": 1,
   "metadata": {},
   "outputs": [
    {
     "name": "stdout",
     "output_type": "stream",
     "text": [
      "\n",
      "\u001b[1m[\u001b[0m\u001b[34;49mnotice\u001b[0m\u001b[1;39;49m]\u001b[0m\u001b[39;49m A new release of pip is available: \u001b[0m\u001b[31;49m23.3.1\u001b[0m\u001b[39;49m -> \u001b[0m\u001b[32;49m24.0\u001b[0m\n",
      "\u001b[1m[\u001b[0m\u001b[34;49mnotice\u001b[0m\u001b[1;39;49m]\u001b[0m\u001b[39;49m To update, run: \u001b[0m\u001b[32;49mpip install --upgrade pip\u001b[0m\n"
     ]
    }
   ],
   "source": [
    "! pip3 install -qU  markdownify  langchain-upstage rank_bm25 pymongo langchain langchain-mongodb"
   ]
  },
  {
   "cell_type": "code",
   "execution_count": null,
   "metadata": {},
   "outputs": [],
   "source": [
    "\n",
    "%load_ext dotenv\n",
    "%dotenv\n",
    "# UPSTAGE_API_KEY\n",
    "# ... KEY"
   ]
  },
  {
   "cell_type": "code",
   "execution_count": 2,
   "metadata": {},
   "outputs": [],
   "source": [
    "import warnings\n",
    "\n",
    "warnings.filterwarnings(\"ignore\")"
   ]
  },
  {
   "cell_type": "code",
   "execution_count": 40,
   "metadata": {},
   "outputs": [],
   "source": [
    "from pymongo.mongo_client import MongoClient\n",
    "from langchain_mongodb import MongoDBAtlasVectorSearch\n",
    "from langchain_upstage import UpstageEmbeddings\n",
    "\n",
    "\"\"\"\n",
    "Your connection string should use following format:\n",
    "mongodb+srv://<username>:<password>@<clusterName>.<hostname>.mongodb.net\n",
    "\"\"\"\n",
    "\n",
    "\n",
    "# Connect to your Atlas cluster\n",
    "client = MongoClient('mongodb+srv://<username>:<password>@<clusterName>.<hostname>.mongodb.net')\n",
    "\n",
    "# Define collection and index name\n",
    "db_name = \"db\"\n",
    "collection_name = \"collection\"\n",
    "atlas_collection = client[db_name][collection_name]\n",
    "vector_search_index = \"vector_index\""
   ]
  },
  {
   "cell_type": "markdown",
   "metadata": {},
   "source": [
    "# Create Indexes\n",
    "\n",
    "create atlas index fields.\n",
    "\n",
    "[Create Index Fields](https://www.mongodb.com/docs/atlas/atlas-vector-search/vector-search-type/#std-label-avs-types-vector-search)\n",
    "\n",
    "```json\n",
    "{\n",
    "  \"fields\": [\n",
    "    {\n",
    "      \"numDimensions\": 1536,\n",
    "      \"path\": \"embedding\",\n",
    "      \"similarity\": \"dotProduct\",\n",
    "      \"type\": \"vector\"\n",
    "    },\n",
    "    {\n",
    "      \"path\": \"metadata.team\",\n",
    "      \"type\": \"filter\"\n",
    "    },\n",
    "    {\n",
    "      \"path\": \"metadata._id\",\n",
    "      \"type\": \"filter\"\n",
    "    }\n",
    "  ]\n",
    "}\n",
    "```"
   ]
  },
  {
   "cell_type": "code",
   "execution_count": 53,
   "metadata": {},
   "outputs": [
    {
     "name": "stdout",
     "output_type": "stream",
     "text": [
      "[Document(page_content='Korea is a beautiful country to visit in the spring.', metadata={'_id': 'ffdcd54b-d518-f7df-f467-d5a89e134915'}), Document(page_content='The best time to visit Korea is in the fall.', metadata={'_id': '4c433943-7d7d-bac3-8b2c-950e2ecf501b'}), Document(page_content='Best way to find bug is using unit test.', metadata={'_id': '64435a9d-c192-58eb-1b75-296b8426d51f'}), Document(page_content='Python is a great programming language for beginners.', metadata={'_id': '1f4d8b9f-d54d-897b-e3eb-5aa5711c15ba'}), Document(page_content='Sung Kim is a great teacher.', metadata={'_id': '3aee06fb-708c-3404-1d42-7f22c75895fb'})]\n"
     ]
    }
   ],
   "source": [
    "from langchain_text_splitters import RecursiveCharacterTextSplitter\n",
    "from langchain.schema import Document\n",
    "import hashlib\n",
    "import uuid\n",
    "\n",
    "sample_text = [\n",
    "    \"Korea is a beautiful country to visit in the spring.\",\n",
    "    \"The best time to visit Korea is in the fall.\",\n",
    "    \"Best way to find bug is using unit test.\",\n",
    "    \"Python is a great programming language for beginners.\",\n",
    "    \"Sung Kim is a great teacher.\",\n",
    "]\n",
    "\n",
    "splits = RecursiveCharacterTextSplitter().create_documents(sample_text)\n",
    "\n",
    "def generate_uuid_from_text(text):\n",
    "    hash_object = hashlib.md5(text.encode('utf-8'))\n",
    "    return str(uuid.UUID(hash_object.hexdigest()))\n",
    "\n",
    "documents_with_ids = []\n",
    "for doc in splits:\n",
    "    doc_id = generate_uuid_from_text(doc.page_content)\n",
    "    new_doc = Document(page_content=doc.page_content, metadata={'_id': doc_id})\n",
    "    documents_with_ids.append(new_doc)\n",
    "print(documents_with_ids)\n",
    "\n",
    "vectorstore = MongoDBAtlasVectorSearch.from_documents(\n",
    "    documents=documents_with_ids,\n",
    "    collection=atlas_collection,\n",
    "    embedding=UpstageEmbeddings(model=\"solar-embedding-1-large\", api_key=\"up_gg262m01hW6eoW2xdf1NXT1VVTDj0\"),\n",
    "    index_name=vector_search_index\n",
    ")"
   ]
  },
  {
   "cell_type": "code",
   "execution_count": 58,
   "metadata": {},
   "outputs": [],
   "source": [
    "# check if text is in the vector store\n",
    "# vector store is mongodb collection\n",
    "def is_in_vectorstore(collection, document_id):\n",
    "    result = collection.find_one({\"_id\": document_id})\n",
    "    return result is not None"
   ]
  },
  {
   "cell_type": "code",
   "execution_count": 60,
   "metadata": {},
   "outputs": [
    {
     "data": {
      "text/plain": [
       "False"
      ]
     },
     "execution_count": 60,
     "metadata": {},
     "output_type": "execute_result"
    }
   ],
   "source": [
    "is_in_vectorstore(atlas_collection, \"Hello, new sentence\")"
   ]
  },
  {
   "cell_type": "code",
   "execution_count": 70,
   "metadata": {},
   "outputs": [
    {
     "data": {
      "text/plain": [
       "True"
      ]
     },
     "execution_count": 70,
     "metadata": {},
     "output_type": "execute_result"
    }
   ],
   "source": [
    "is_in_vectorstore(atlas_collection, documents_with_ids[0].metadata['_id'])"
   ]
  },
  {
   "cell_type": "code",
   "execution_count": 71,
   "metadata": {},
   "outputs": [
    {
     "ename": "ValueError",
     "evalue": "Did not find UPSTAGE_API_KEY, please add an environment variable `UPSTAGE_API_KEY` which contains it, or pass  `UPSTAGE_API_KEY` as a named parameter.",
     "output_type": "error",
     "traceback": [
      "\u001b[0;31m---------------------------------------------------------------------------\u001b[0m",
      "\u001b[0;31mValueError\u001b[0m                                Traceback (most recent call last)",
      "Cell \u001b[0;32mIn[71], line 4\u001b[0m\n\u001b[1;32m      1\u001b[0m \u001b[38;5;28;01mfrom\u001b[39;00m \u001b[38;5;21;01mlangchain_upstage\u001b[39;00m \u001b[38;5;28;01mimport\u001b[39;00m UpstageLayoutAnalysisLoader\n\u001b[0;32m----> 4\u001b[0m layzer \u001b[38;5;241m=\u001b[39m \u001b[43mUpstageLayoutAnalysisLoader\u001b[49m\u001b[43m(\u001b[49m\u001b[38;5;124;43m\"\u001b[39;49m\u001b[38;5;124;43mpdfs/kim-tse-2008.pdf\u001b[39;49m\u001b[38;5;124;43m\"\u001b[39;49m\u001b[43m,\u001b[49m\u001b[43m \u001b[49m\u001b[43moutput_type\u001b[49m\u001b[38;5;241;43m=\u001b[39;49m\u001b[38;5;124;43m\"\u001b[39;49m\u001b[38;5;124;43mhtml\u001b[39;49m\u001b[38;5;124;43m\"\u001b[39;49m\u001b[43m)\u001b[49m\n\u001b[1;32m      5\u001b[0m \u001b[38;5;66;03m# For improved memory efficiency, consider using the lazy_load method to load documents page by page.\u001b[39;00m\n\u001b[1;32m      6\u001b[0m docs \u001b[38;5;241m=\u001b[39m layzer\u001b[38;5;241m.\u001b[39mload()  \u001b[38;5;66;03m# or layzer.lazy_load()\u001b[39;00m\n",
      "File \u001b[0;32m~/upstage/projects/SolarLLMZeroToAll/venv/lib/python3.9/site-packages/langchain_upstage/layout_analysis.py:130\u001b[0m, in \u001b[0;36mUpstageLayoutAnalysisLoader.__init__\u001b[0;34m(self, file_path, output_type, split, api_key, use_ocr, exclude)\u001b[0m\n\u001b[1;32m    124\u001b[0m \u001b[38;5;28;01mif\u001b[39;00m deprecated_key \u001b[38;5;241m:=\u001b[39m os\u001b[38;5;241m.\u001b[39menviron\u001b[38;5;241m.\u001b[39mget(\u001b[38;5;124m\"\u001b[39m\u001b[38;5;124mUPSTAGE_DOCUMENT_AI_API_KEY\u001b[39m\u001b[38;5;124m\"\u001b[39m):\n\u001b[1;32m    125\u001b[0m     warnings\u001b[38;5;241m.\u001b[39mwarn(\n\u001b[1;32m    126\u001b[0m         \u001b[38;5;124m\"\u001b[39m\u001b[38;5;124mUPSTAGE_DOCUMENT_AI_API_KEY is deprecated.\u001b[39m\u001b[38;5;124m\"\u001b[39m\n\u001b[1;32m    127\u001b[0m         \u001b[38;5;124m\"\u001b[39m\u001b[38;5;124mPlease use UPSTAGE_API_KEY instead.\u001b[39m\u001b[38;5;124m\"\u001b[39m\n\u001b[1;32m    128\u001b[0m     )\n\u001b[0;32m--> 130\u001b[0m \u001b[38;5;28mself\u001b[39m\u001b[38;5;241m.\u001b[39mapi_key \u001b[38;5;241m=\u001b[39m \u001b[43mget_from_param_or_env\u001b[49m\u001b[43m(\u001b[49m\n\u001b[1;32m    131\u001b[0m \u001b[43m    \u001b[49m\u001b[38;5;124;43m\"\u001b[39;49m\u001b[38;5;124;43mUPSTAGE_API_KEY\u001b[39;49m\u001b[38;5;124;43m\"\u001b[39;49m\u001b[43m,\u001b[49m\u001b[43m \u001b[49m\u001b[43mapi_key\u001b[49m\u001b[43m,\u001b[49m\u001b[43m \u001b[49m\u001b[38;5;124;43m\"\u001b[39;49m\u001b[38;5;124;43mUPSTAGE_API_KEY\u001b[39;49m\u001b[38;5;124;43m\"\u001b[39;49m\u001b[43m,\u001b[49m\u001b[43m \u001b[49m\u001b[43mdeprecated_key\u001b[49m\n\u001b[1;32m    132\u001b[0m \u001b[43m\u001b[49m\u001b[43m)\u001b[49m\n\u001b[1;32m    133\u001b[0m \u001b[38;5;28mself\u001b[39m\u001b[38;5;241m.\u001b[39muse_ocr \u001b[38;5;241m=\u001b[39m use_ocr\n\u001b[1;32m    134\u001b[0m \u001b[38;5;28mself\u001b[39m\u001b[38;5;241m.\u001b[39mexclude \u001b[38;5;241m=\u001b[39m exclude\n",
      "File \u001b[0;32m~/upstage/projects/SolarLLMZeroToAll/venv/lib/python3.9/site-packages/langchain_upstage/layout_analysis.py:67\u001b[0m, in \u001b[0;36mget_from_param_or_env\u001b[0;34m(key, param, env_key, default)\u001b[0m\n\u001b[1;32m     65\u001b[0m     \u001b[38;5;28;01mreturn\u001b[39;00m default\n\u001b[1;32m     66\u001b[0m \u001b[38;5;28;01melse\u001b[39;00m:\n\u001b[0;32m---> 67\u001b[0m     \u001b[38;5;28;01mraise\u001b[39;00m \u001b[38;5;167;01mValueError\u001b[39;00m(\n\u001b[1;32m     68\u001b[0m         \u001b[38;5;124mf\u001b[39m\u001b[38;5;124m\"\u001b[39m\u001b[38;5;124mDid not find \u001b[39m\u001b[38;5;132;01m{\u001b[39;00mkey\u001b[38;5;132;01m}\u001b[39;00m\u001b[38;5;124m, please add an environment variable\u001b[39m\u001b[38;5;124m\"\u001b[39m\n\u001b[1;32m     69\u001b[0m         \u001b[38;5;124mf\u001b[39m\u001b[38;5;124m\"\u001b[39m\u001b[38;5;124m `\u001b[39m\u001b[38;5;132;01m{\u001b[39;00menv_key\u001b[38;5;132;01m}\u001b[39;00m\u001b[38;5;124m` which contains it, or pass\u001b[39m\u001b[38;5;124m\"\u001b[39m\n\u001b[1;32m     70\u001b[0m         \u001b[38;5;124mf\u001b[39m\u001b[38;5;124m\"\u001b[39m\u001b[38;5;124m  `\u001b[39m\u001b[38;5;132;01m{\u001b[39;00mkey\u001b[38;5;132;01m}\u001b[39;00m\u001b[38;5;124m` as a named parameter.\u001b[39m\u001b[38;5;124m\"\u001b[39m\n\u001b[1;32m     71\u001b[0m     )\n",
      "\u001b[0;31mValueError\u001b[0m: Did not find UPSTAGE_API_KEY, please add an environment variable `UPSTAGE_API_KEY` which contains it, or pass  `UPSTAGE_API_KEY` as a named parameter."
     ]
    }
   ],
   "source": [
    "from langchain_upstage import UpstageLayoutAnalysisLoader\n",
    "\n",
    "\n",
    "layzer = UpstageLayoutAnalysisLoader(\"pdfs/kim-tse-2008.pdf\", output_type=\"html\")\n",
    "# For improved memory efficiency, consider using the lazy_load method to load documents page by page.\n",
    "docs = layzer.load()  # or layzer.lazy_load()"
   ]
  },
  {
   "cell_type": "code",
   "execution_count": 9,
   "metadata": {},
   "outputs": [
    {
     "name": "stdout",
     "output_type": "stream",
     "text": [
      "Splits: 125\n"
     ]
    }
   ],
   "source": [
    "from langchain_text_splitters import (\n",
    "    Language,\n",
    "    RecursiveCharacterTextSplitter,\n",
    ")\n",
    "\n",
    "# 2. Split\n",
    "text_splitter = RecursiveCharacterTextSplitter.from_language(\n",
    "    chunk_size=1000, chunk_overlap=100, language=Language.HTML\n",
    ")\n",
    "splits = text_splitter.split_documents(docs)\n",
    "print(\"Splits:\", len(splits))"
   ]
  },
  {
   "cell_type": "code",
   "execution_count": 10,
   "metadata": {},
   "outputs": [
    {
     "name": "stdout",
     "output_type": "stream",
     "text": [
      "125\n"
     ]
    }
   ],
   "source": [
    "from langchain_chroma import Chroma\n",
    "from langchain_mongodb import MongoDBAtlasVectorSearch\n",
    "\n",
    "vectorstore = Chroma(\n",
    "    persist_directory=\"./chroma_db\",\n",
    "    embedding_function=UpstageEmbeddings(model=\"solar-embedding-1-large\"),\n",
    ")\n",
    "retriever = vectorstore.as_retriever()\n",
    "\n",
    "\n",
    "unique_splits = [\n",
    "    split for split in splits if not is_in_vectorstore(vectorstore, split.page_content)\n",
    "]\n",
    "print(len(unique_splits))\n",
    "\n",
    "# 3. Embed & indexing if it's not in the vector store\n",
    "if len(unique_splits) > 0:\n",
    "    vectorstore = Chroma.from_documents(\n",
    "        ids=[split.page_content for split in unique_splits],\n",
    "        persist_directory=\"./chroma_db\",\n",
    "        documents=unique_splits,\n",
    "        embedding=UpstageEmbeddings(model=\"solar-embedding-1-large\"),\n",
    ")"
   ]
  },
  {
   "cell_type": "code",
   "execution_count": 13,
   "metadata": {},
   "outputs": [
    {
     "name": "stdout",
     "output_type": "stream",
     "text": [
      "0\n"
     ]
    }
   ],
   "source": [
    "from langchain_chroma import Chroma\n",
    "\n",
    "vectorstore = Chroma(\n",
    "    persist_directory=\"./chroma_db\",\n",
    "    embedding_function=UpstageEmbeddings(model=\"solar-embedding-1-large\"),\n",
    ")\n",
    "retriever = vectorstore.as_retriever()\n",
    "\n",
    "unique_splits = [\n",
    "    split for split in splits if not is_in_vectorstore(vectorstore, split.page_content)\n",
    "]\n",
    "\n",
    "# It's already in the vector store so we don't need to index it again.\n",
    "print(len(unique_splits))\n",
    "\n",
    "if len(unique_splits) > 0:\n",
    "    vectorstore = Chroma.from_documents(\n",
    "        ids=[split.page_content for split in unique_splits],\n",
    "        persist_directory=\"./chroma_db\",\n",
    "        documents=unique_splits,\n",
    "        embedding=UpstageEmbeddings(model=\"solar-embedding-1-large\"),\n",
    ")\n",
    "\n"
   ]
  },
  {
   "cell_type": "code",
   "execution_count": 15,
   "metadata": {},
   "outputs": [
    {
     "name": "stdout",
     "output_type": "stream",
     "text": [
      "<p id='13' style='font-size:16px'>introduced bugs immediately. Several bug-finding techni-<br>ques c\n"
     ]
    }
   ],
   "source": [
    "# Query the retriever\n",
    "search_result = retriever.invoke(\"How to find problems in code?\")\n",
    "print(search_result[0].page_content[:100])\n"
   ]
  }
 ],
 "metadata": {
  "kernelspec": {
   "display_name": "Python 3 (ipykernel)",
   "language": "python",
   "name": "python3"
  },
  "language_info": {
   "codemirror_mode": {
    "name": "ipython",
    "version": 3
   },
   "file_extension": ".py",
   "mimetype": "text/x-python",
   "name": "python",
   "nbconvert_exporter": "python",
   "pygments_lexer": "ipython3",
   "version": "3.9.18"
  }
 },
 "nbformat": 4,
 "nbformat_minor": 4
}

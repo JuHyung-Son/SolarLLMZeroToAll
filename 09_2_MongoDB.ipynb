{
 "cells": [
  {
   "cell_type": "markdown",
   "metadata": {},
   "source": [
    "## MongoDB Atlas\n",
    "\n",
    "To use MongoDB Atlas, you must first deploy a cluster. To get started head over to Atlas here: [quick start](https://www.mongodb.com/docs/atlas/getting-started/).\n",
    "Create an Atlas database and create an Atlas Search Index to search vectors.\n",
    "\n",
    "Follow below MongoDB Atlas guide\n",
    "- [Create new cluster](https://www.mongodb.com/docs/atlas/tutorial/create-new-cluster/)\n",
    "- [Connect to database](https://www.mongodb.com/docs/atlas/driver-connection/)\n",
    "- [Create an Atlas Vector Search Index](https://www.mongodb.com/docs/atlas/atlas-vector-search/create-index/)\n",
    "- [Create Index Fields](https://www.mongodb.com/docs/atlas/atlas-vector-search/vector-search-type/#std-label-avs-types-vector-search)\n",
    "\n",
    "### benefits?\n",
    "- use mongoDB itself!"
   ]
  },
  {
   "cell_type": "code",
   "execution_count": 34,
   "metadata": {},
   "outputs": [
    {
     "name": "stdout",
     "output_type": "stream",
     "text": [
      "\n",
      "\u001b[1m[\u001b[0m\u001b[34;49mnotice\u001b[0m\u001b[1;39;49m]\u001b[0m\u001b[39;49m A new release of pip is available: \u001b[0m\u001b[31;49m23.3.1\u001b[0m\u001b[39;49m -> \u001b[0m\u001b[32;49m24.0\u001b[0m\n",
      "\u001b[1m[\u001b[0m\u001b[34;49mnotice\u001b[0m\u001b[1;39;49m]\u001b[0m\u001b[39;49m To update, run: \u001b[0m\u001b[32;49mpip install --upgrade pip\u001b[0m\n"
     ]
    }
   ],
   "source": [
    "! pip3 install -qU  markdownify  langchain-upstage rank_bm25 pymongo langchain langchain-mongodb"
   ]
  },
  {
   "cell_type": "code",
   "execution_count": 35,
   "metadata": {},
   "outputs": [
    {
     "name": "stdout",
     "output_type": "stream",
     "text": [
      "The dotenv module is not an IPython extension.\n"
     ]
    },
    {
     "name": "stderr",
     "output_type": "stream",
     "text": [
      "UsageError: Line magic function `%dotenv` not found.\n"
     ]
    }
   ],
   "source": [
    "\n",
    "%load_ext dotenv\n",
    "%dotenv\n",
    "# UPSTAGE_API_KEY\n",
    "# ... KEY"
   ]
  },
  {
   "cell_type": "code",
   "execution_count": 2,
   "metadata": {},
   "outputs": [],
   "source": [
    "import warnings\n",
    "\n",
    "warnings.filterwarnings(\"ignore\")"
   ]
  },
  {
   "cell_type": "code",
   "execution_count": 37,
   "metadata": {},
   "outputs": [],
   "source": [
    "from pymongo.mongo_client import MongoClient\n",
    "from langchain_mongodb import MongoDBAtlasVectorSearch\n",
    "from langchain_upstage import UpstageEmbeddings\n",
    "import os\n",
    "\n",
    "\"\"\"\n",
    "Your connection string should use following format:\n",
    "mongodb+srv://<username>:<password>@<clusterName>.<hostname>.mongodb.net\n",
    "\"\"\"\n",
    "MONGO_URI = os.environ.get(\"MONGO_URI\")\n",
    "\n",
    "# Connect to your Atlas cluster\n",
    "client = MongoClient(MONGO_URI)\n",
    "# Define collection and index name\n",
    "db_name = \"db\"\n",
    "collection_name = \"collection\"\n",
    "atlas_collection = client[db_name][collection_name]\n",
    "vector_search_index = \"vector_index\""
   ]
  },
  {
   "cell_type": "markdown",
   "metadata": {},
   "source": [
    "# Create Indexes\n",
    "\n",
    "create atlas index fields.\n",
    "\n",
    "[Create Index Fields](https://www.mongodb.com/docs/atlas/atlas-vector-search/vector-search-type/#std-label-avs-types-vector-search)\n",
    "\n",
    "```json\n",
    "{\n",
    "  \"fields\": [\n",
    "    {\n",
    "      \"numDimensions\": 4096,\n",
    "      \"path\": \"embedding\",\n",
    "      \"similarity\": \"dotProduct\",\n",
    "      \"type\": \"vector\"\n",
    "    }\n",
    "  ]\n",
    "}\n",
    "```"
   ]
  },
  {
   "cell_type": "code",
   "execution_count": 38,
   "metadata": {},
   "outputs": [
    {
     "name": "stdout",
     "output_type": "stream",
     "text": [
      "[Document(page_content='Korea is a beautiful country to visit in the spring.'), Document(page_content='The best time to visit Korea is in the fall.'), Document(page_content='Best way to find bug is using unit test.'), Document(page_content='Python is a great programming language for beginners.'), Document(page_content='Sung Kim is a great teacher.')]\n"
     ]
    }
   ],
   "source": [
    "from langchain_text_splitters import RecursiveCharacterTextSplitter\n",
    "\n",
    "\n",
    "sample_text = [\n",
    "    \"Korea is a beautiful country to visit in the spring.\",\n",
    "    \"The best time to visit Korea is in the fall.\",\n",
    "    \"Best way to find bug is using unit test.\",\n",
    "    \"Python is a great programming language for beginners.\",\n",
    "    \"Sung Kim is a great teacher.\",\n",
    "]\n",
    "\n",
    "splits = RecursiveCharacterTextSplitter().create_documents(sample_text)\n",
    "\n",
    "print(splits)\n",
    "\n",
    "vectorstore = MongoDBAtlasVectorSearch.from_documents(\n",
    "    documents=splits,\n",
    "    collection=atlas_collection,\n",
    "    embedding=UpstageEmbeddings(model=\"solar-embedding-1-large\"),\n",
    "    index_name=vector_search_index\n",
    ")"
   ]
  },
  {
   "cell_type": "code",
   "execution_count": 39,
   "metadata": {},
   "outputs": [],
   "source": [
    "# check if text is in the vector store\n",
    "def is_in_vectorstore(collection, text):\n",
    "    # we can query to mongodb collection\n",
    "    result = collection.find_one({ \"text\": text })\n",
    "    return result is not None"
   ]
  },
  {
   "cell_type": "code",
   "execution_count": 40,
   "metadata": {},
   "outputs": [
    {
     "data": {
      "text/plain": [
       "False"
      ]
     },
     "execution_count": 40,
     "metadata": {},
     "output_type": "execute_result"
    }
   ],
   "source": [
    "is_in_vectorstore(atlas_collection, \"Hello, new sentence\")"
   ]
  },
  {
   "cell_type": "code",
   "execution_count": 41,
   "metadata": {},
   "outputs": [
    {
     "data": {
      "text/plain": [
       "True"
      ]
     },
     "execution_count": 41,
     "metadata": {},
     "output_type": "execute_result"
    }
   ],
   "source": [
    "is_in_vectorstore(atlas_collection, splits[0].page_content)"
   ]
  },
  {
   "cell_type": "code",
   "execution_count": 42,
   "metadata": {},
   "outputs": [],
   "source": [
    "from langchain_upstage import UpstageLayoutAnalysisLoader\n",
    "\n",
    "\n",
    "layzer = UpstageLayoutAnalysisLoader(\"pdfs/kim-tse-2008.pdf\", output_type=\"html\")\n",
    "# For improved memory efficiency, consider using the lazy_load method to load documents page by page.\n",
    "docs = layzer.load()  # or layzer.lazy_load()"
   ]
  },
  {
   "cell_type": "code",
   "execution_count": 43,
   "metadata": {},
   "outputs": [
    {
     "name": "stdout",
     "output_type": "stream",
     "text": [
      "Splits: 125\n"
     ]
    }
   ],
   "source": [
    "from langchain_text_splitters import (\n",
    "    Language,\n",
    "    RecursiveCharacterTextSplitter,\n",
    ")\n",
    "\n",
    "# 2. Split\n",
    "text_splitter = RecursiveCharacterTextSplitter.from_language(\n",
    "    chunk_size=1000, chunk_overlap=100, language=Language.HTML\n",
    ")\n",
    "splits = text_splitter.split_documents(docs)\n",
    "print(\"Splits:\", len(splits))"
   ]
  },
  {
   "cell_type": "code",
   "execution_count": 44,
   "metadata": {},
   "outputs": [
    {
     "name": "stdout",
     "output_type": "stream",
     "text": [
      "125\n"
     ]
    }
   ],
   "source": [
    "from langchain_mongodb import MongoDBAtlasVectorSearch\n",
    "\n",
    "vectorstore = MongoDBAtlasVectorSearch(\n",
    "    collection=atlas_collection,\n",
    "    embedding=UpstageEmbeddings(model=\"solar-embedding-1-large\"),\n",
    "    index_name=vector_search_index\n",
    ")\n",
    "retriever = vectorstore.as_retriever()\n",
    "\n",
    "\n",
    "unique_splits = [\n",
    "    split for split in splits if not is_in_vectorstore(atlas_collection, split.page_content)\n",
    "]\n",
    "print(len(unique_splits))\n",
    "\n",
    "# 3. Embed & indexing if it's not in the vector store\n",
    "if len(unique_splits) > 0:\n",
    "    MongoDBAtlasVectorSearch.from_documents(\n",
    "    documents=unique_splits,\n",
    "    collection=atlas_collection,\n",
    "    embedding=UpstageEmbeddings(model=\"solar-embedding-1-large\"),\n",
    "    index_name=vector_search_index\n",
    ")"
   ]
  },
  {
   "cell_type": "code",
   "execution_count": 49,
   "metadata": {},
   "outputs": [
    {
     "name": "stdout",
     "output_type": "stream",
     "text": [
      "[Document(page_content='Best way to find bug is using unit test.', metadata={'_id': '64435a9d-c192-58eb-1b75-296b8426d51f'}), Document(page_content='Best way to find bug is using unit test.', metadata={'_id': {'$oid': '664e8aeac5ca68643b344c50'}}), Document(page_content=\"<p id='13' style='font-size:16px'>introduced bugs immediately. Several bug-finding techni-<br>ques could be used, including code inspections, unit testing,<br>and the use of static analysis tools. Since these steps would<br>be taken right after a code change was made, the developer<br>would still retain the full mental context of the change. This<br>holds promise for reducing the time required to find<br>software bugs and reducing the time that bugs stay resident<br>in software before removal.</p><br>\", metadata={'_id': {'$oid': '664e8b2ec5ca68643b344c5a'}, 'total_pages': 16, 'type': 'html', 'split': 'none'}), Document(page_content=\"<p id='39' style='font-size:20px'>2.2 Mining Buggy Patterns</p><br><p id='40' style='font-size:16px'>One thread of research attempts to find buggy or clean code<br>patterns in the history of development of a software project.</p><br><p id='41' style='font-size:16px'>Williams and Hollingsworth use project histories to<br>improve existing bug-finding tools [51]. Using a return<br>value without first checking its validity may be a latent bug.<br>In practice, this approach leads to many false positives as<br>typical code has many locations where return values are<br>used without checking. To remove the false positives,<br>Williams and Hollingsworth use project histories to</p><br>\", metadata={'_id': {'$oid': '664e8b2ec5ca68643b344c6d'}, 'total_pages': 16, 'type': 'html', 'split': 'none'})]\n",
      "Best way to find bug is using unit test.\n"
     ]
    }
   ],
   "source": [
    "# Query the retriever\n",
    "search_result = retriever.invoke(\"How to find problems in code?\")\n",
    "print(search_result)\n",
    "print(search_result[0].page_content[:100])\n"
   ]
  },
  {
   "cell_type": "code",
   "execution_count": null,
   "metadata": {},
   "outputs": [],
   "source": []
  }
 ],
 "metadata": {
  "kernelspec": {
   "display_name": "Python 3 (ipykernel)",
   "language": "python",
   "name": "python3"
  },
  "language_info": {
   "codemirror_mode": {
    "name": "ipython",
    "version": 3
   },
   "file_extension": ".py",
   "mimetype": "text/x-python",
   "name": "python",
   "nbconvert_exporter": "python",
   "pygments_lexer": "ipython3",
   "version": "3.9.18"
  }
 },
 "nbformat": 4,
 "nbformat_minor": 4
}
